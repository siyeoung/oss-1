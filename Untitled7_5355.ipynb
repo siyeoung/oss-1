{
  "nbformat": 4,
  "nbformat_minor": 0,
  "metadata": {
    "colab": {
      "provenance": []
    },
    "kernelspec": {
      "name": "python3",
      "display_name": "Python 3"
    },
    "language_info": {
      "name": "python"
    }
  },
  "cells": [
    {
      "cell_type": "code",
      "execution_count": null,
      "metadata": {
        "id": "oArwrTeeK5jv"
      },
      "outputs": [],
      "source": [
        "case = int(input())\n",
        "\n",
        "for _ in range(case):\n",
        "    mars = list(map(str, input().split()))\n",
        "    answer = 0\n",
        "    for i in range(len(mars)):\n",
        "        if i == 0:\n",
        "            answer += float(mars[i])\n",
        "        else:\n",
        "            if mars[i] == \"#\":\n",
        "                answer -= 7\n",
        "            elif mars[i] == \"%\":\n",
        "                answer += 5\n",
        "            elif mars[i] == \"@\":\n",
        "                answer *= 3\n",
        "                \n",
        "    print(\"%0.2f\" % answer)"
      ]
    }
  ]
}