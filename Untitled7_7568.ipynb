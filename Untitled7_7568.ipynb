{
  "nbformat": 4,
  "nbformat_minor": 0,
  "metadata": {
    "colab": {
      "provenance": []
    },
    "kernelspec": {
      "name": "python3",
      "display_name": "Python 3"
    },
    "language_info": {
      "name": "python"
    }
  },
  "cells": [
    {
      "cell_type": "code",
      "execution_count": null,
      "metadata": {
        "id": "JW6zpRlI0BwX"
      },
      "outputs": [],
      "source": [
        "num_student = int(input())\n",
        "student_list = []\n",
        "\n",
        "for _ in range(num_student):\n",
        "    weight, height = map(int, input().split())\n",
        "    student_list.append((weight, height))\n",
        "\n",
        "for i in student_list:\n",
        "    rank = 1\n",
        "    for j in student_list:\n",
        "        if i[0] < j[0] and i[1] < j[1]:\n",
        "                rank += 1\n",
        "    print(rank, end = \" \")"
      ]
    }
  ]
}