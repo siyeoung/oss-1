{
  "nbformat": 4,
  "nbformat_minor": 0,
  "metadata": {
    "colab": {
      "provenance": [],
      "authorship_tag": "ABX9TyOGiqQnNW5dD1CrhpTqDEhC",
      "include_colab_link": true
    },
    "kernelspec": {
      "name": "python3",
      "display_name": "Python 3"
    },
    "language_info": {
      "name": "python"
    }
  },
  "cells": [
    {
      "cell_type": "markdown",
      "metadata": {
        "id": "view-in-github",
        "colab_type": "text"
      },
      "source": [
        "<a href=\"https://colab.research.google.com/github/siyeoung/oss-1/blob/main/Untitled3.ipynb\" target=\"_parent\"><img src=\"https://colab.research.google.com/assets/colab-badge.svg\" alt=\"Open In Colab\"/></a>"
      ]
    },
    {
      "cell_type": "code",
      "execution_count": null,
      "metadata": {
        "id": "WoIy6t0FWXZU"
      },
      "outputs": [],
      "source": [
        "from sys import stdin\n",
        "\n",
        "# 연결리스트의 노드 클래스\n",
        "class ListNode:\n",
        "    def __init__(self, val, prev, next):\n",
        "        self.val = val\n",
        "        self.prev = prev\n",
        "        self.next = next\n",
        "\n",
        "# 연결리스트의 head\n",
        "head = ListNode('dummy', None, None)\n",
        "curr = head\n",
        "\n",
        "init = input() # 초기 문자열\n",
        "for i in range(len(init)): # 초기 문자열을 연결리스트로 만들어 둠\n",
        "    new_node = ListNode(init[i], None, None)\n",
        "    curr.next = new_node\n",
        "    new_node.prev = curr\n",
        "    curr = new_node\n",
        "\n",
        "for _ in range(int(input())):\n",
        "    command = stdin.readline().rstrip()\n",
        "    if command == 'L':\n",
        "        if curr.val != 'dummy':\n",
        "            curr = curr.prev\n",
        "    elif command == 'D':\n",
        "        if curr.next:\n",
        "            curr = curr.next\n",
        "    elif command == 'B':\n",
        "        if curr.val != 'dummy':\n",
        "            curr = curr.prev\n",
        "            if curr.next.next:\n",
        "                curr.next = curr.next.next\n",
        "                curr.next.prev = curr\n",
        "            else:\n",
        "                curr.next = None\n",
        "    else:\n",
        "        new_node = ListNode(command[-1], None, None)\n",
        "        if curr.next:\n",
        "            new_node.next = curr.next\n",
        "            curr.next.prev = new_node\n",
        "        curr.next = new_node\n",
        "        new_node.prev = curr\n",
        "        curr = new_node\n",
        "\n",
        "print_node = head.next\n",
        "while print_node:\n",
        "    print(print_node.val, end='')\n",
        "    print_node = print_node.next"
      ]
    }
  ]
}