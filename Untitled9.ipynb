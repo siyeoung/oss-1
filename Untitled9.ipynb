{
  "nbformat": 4,
  "nbformat_minor": 0,
  "metadata": {
    "colab": {
      "provenance": []
    },
    "kernelspec": {
      "name": "python3",
      "display_name": "Python 3"
    },
    "language_info": {
      "name": "python"
    }
  },
  "cells": [
    {
      "cell_type": "code",
      "execution_count": null,
      "metadata": {
        "id": "uEkmSpPdHfKN"
      },
      "outputs": [],
      "source": [
        "oasis = [int(input()) for _ in range(int(input()))]\n",
        "\n",
        "stack = []\n",
        "result = 0\n",
        "\n",
        "for o in oasis:\n",
        "  while stack and stack[-1]<o: # >\n",
        "    stack.pop()\n",
        "    result += 1\n",
        "\n",
        "  stack.append(o)\n",
        "\n",
        "  if len(stack)>0:\n",
        "    result += len(stack)-1\n",
        "\n",
        "\n",
        "print(result)"
      ]
    }
  ]
}