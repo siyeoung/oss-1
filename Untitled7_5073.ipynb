{
  "nbformat": 4,
  "nbformat_minor": 0,
  "metadata": {
    "colab": {
      "provenance": []
    },
    "kernelspec": {
      "name": "python3",
      "display_name": "Python 3"
    },
    "language_info": {
      "name": "python"
    }
  },
  "cells": [
    {
      "cell_type": "code",
      "execution_count": null,
      "metadata": {
        "id": "O4BxQU4nLlSm"
      },
      "outputs": [],
      "source": [
        "while 1:\n",
        "    li = sorted(list(map(int, input().split())))\n",
        "    if li[0] == li[1] == li[2] == 0:\n",
        "        break\n",
        "    if li[0]+li[1] <= li[2]:\n",
        "        print(\"Invalid\")\n",
        "    elif li[0] == li[1] == li[2]:\n",
        "        print(\"Equilateral\")\n",
        "    elif li[0]==li[1] or li[1]==li[2] or li[2]==li[0]:\n",
        "        print(\"Isosceles\")\n",
        "    else:\n",
        "        print(\"Scalene\")"
      ]
    }
  ]
}