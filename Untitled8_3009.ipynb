{
  "nbformat": 4,
  "nbformat_minor": 0,
  "metadata": {
    "colab": {
      "provenance": []
    },
    "kernelspec": {
      "name": "python3",
      "display_name": "Python 3"
    },
    "language_info": {
      "name": "python"
    }
  },
  "cells": [
    {
      "cell_type": "code",
      "execution_count": null,
      "metadata": {
        "id": "eh60WybbGv4E"
      },
      "outputs": [],
      "source": [
        "x_nums = []\n",
        "y_nums = []\n",
        "for _ in range(3):\n",
        "    x, y = map(int, input().split())\n",
        "    x_nums.append(x)\n",
        "    y_nums.append(y)\n",
        "\n",
        "for i in range(3):\n",
        "    if x_nums.count(x_nums[i]) == 1:\n",
        "        x4 = x_nums[i]\n",
        "    if y_nums.count(y_nums[i]) == 1:\n",
        "        y4 = y_nums[i]\n",
        "print(x4, y4)"
      ]
    }
  ]
}