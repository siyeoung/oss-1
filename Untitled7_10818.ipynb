{
  "nbformat": 4,
  "nbformat_minor": 0,
  "metadata": {
    "colab": {
      "provenance": []
    },
    "kernelspec": {
      "name": "python3",
      "display_name": "Python 3"
    },
    "language_info": {
      "name": "python"
    }
  },
  "cells": [
    {
      "cell_type": "code",
      "execution_count": null,
      "metadata": {
        "id": "wxxO3BGatZi4"
      },
      "outputs": [],
      "source": [
        "cnt = int(input())\n",
        "numbers = list(map(int, input().split()))\n",
        "max = numbers[0]\n",
        "min = numbers[0]\n",
        "\n",
        "for i in numbers[1:]:\n",
        "    if i > max:\n",
        "        max = i\n",
        "    elif i < min:\n",
        "        min = i\n",
        "\n",
        "print(min,max)​"
      ]
    }
  ]
}