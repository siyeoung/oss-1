{
  "nbformat": 4,
  "nbformat_minor": 0,
  "metadata": {
    "colab": {
      "provenance": [],
      "authorship_tag": "ABX9TyPMPgG8/7biCIlhxnpimboT",
      "include_colab_link": true
    },
    "kernelspec": {
      "name": "python3",
      "display_name": "Python 3"
    },
    "language_info": {
      "name": "python"
    }
  },
  "cells": [
    {
      "cell_type": "markdown",
      "metadata": {
        "id": "view-in-github",
        "colab_type": "text"
      },
      "source": [
        "<a href=\"https://colab.research.google.com/github/siyeoung/oss-1/blob/main/Untitled4.ipynb\" target=\"_parent\"><img src=\"https://colab.research.google.com/assets/colab-badge.svg\" alt=\"Open In Colab\"/></a>"
      ]
    },
    {
      "cell_type": "code",
      "execution_count": 7,
      "metadata": {
        "id": "mB8l2LZTy7SX"
      },
      "outputs": [],
      "source": [
        "def getMax(a,b,c = -100000):\n",
        "  if a >= b and a >= c:\n",
        "    max = a\n",
        "  elif b >= a and b >= c:\n",
        "    max = b\n",
        "  else:\n",
        "    max = c\n",
        "  return  max\n",
        "\n",
        "\n",
        "\n",
        "\n",
        "  x = int(input(\"정수를 입력하시요.\"))\n",
        "  y = int(input(\"정수를 입력하시오.\"))\n",
        "  z = int(input(\"정수를 입력하시오.\"))\n",
        "\n",
        "  max = getMax(x,y,z)\n",
        "  print(f\"({x}, {y}, {z})중에서 최대값 : {max}\")\n",
        "\n",
        "  max = getMax(x, y)\n",
        "  print(\"({0}, {1})중에서 최대값 : {3}\".format(x,y,max))\n"
      ]
    }
  ]
}