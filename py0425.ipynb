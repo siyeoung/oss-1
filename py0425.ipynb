{
  "nbformat": 4,
  "nbformat_minor": 0,
  "metadata": {
    "colab": {
      "provenance": []
    },
    "kernelspec": {
      "name": "python3",
      "display_name": "Python 3"
    },
    "language_info": {
      "name": "python"
    }
  },
  "cells": [
    {
      "cell_type": "code",
      "execution_count": null,
      "metadata": {
        "colab": {
          "base_uri": "https://localhost:8080/"
        },
        "id": "Vd2lcmzdDvOB",
        "outputId": "ed911057-3ecf-4450-8913-0e33a47790bb"
      },
      "outputs": [
        {
          "output_type": "stream",
          "name": "stdout",
          "text": [
            "첫번째 주사위 = 1 두번째 주사위 = 3\n",
            "첫번째 주사위 = 3 두번째 주사위 = 2\n",
            "첫번째 주사위 = 6 두번째 주사위 = 1\n"
          ]
        }
      ],
      "source": [
        "import random\n",
        "\n",
        "for i in range(3):\n",
        "  print(f\"첫번째 주사위 = {random.randint(1,6)} 두번째 주사위 = {random.randint(1,6)}\")"
      ]
    },
    {
      "cell_type": "code",
      "source": [
        "import sys\n",
        "\n",
        "a = 3\n",
        "b = 9\n",
        "\n",
        "while True:\n",
        "  c = int(input(f\"3*9는 \"))\n",
        "  if c == (a*b):\n",
        "    print(\"맞았습니다.\")\n",
        "    break"
      ],
      "metadata": {
        "colab": {
          "base_uri": "https://localhost:8080/"
        },
        "id": "lLukR_d6bRol",
        "outputId": "0d0a5403-58c3-4965-8c96-2c9e810a5780"
      },
      "execution_count": null,
      "outputs": [
        {
          "output_type": "stream",
          "name": "stdout",
          "text": [
            "3*9는 4\n",
            "3*9는 4\n",
            "3*9는 44\n",
            "3*9는 27\n",
            "맞았습니다.\n"
          ]
        }
      ]
    }
  ]
}