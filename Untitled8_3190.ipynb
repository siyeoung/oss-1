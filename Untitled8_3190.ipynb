{
  "nbformat": 4,
  "nbformat_minor": 0,
  "metadata": {
    "colab": {
      "provenance": []
    },
    "kernelspec": {
      "name": "python3",
      "display_name": "Python 3"
    },
    "language_info": {
      "name": "python"
    }
  },
  "cells": [
    {
      "cell_type": "code",
      "execution_count": null,
      "metadata": {
        "id": "uEkmSpPdHfKN"
      },
      "outputs": [],
      "source": [
        "from collections import deque\n",
        "\n",
        "n = int(input())\n",
        "k = int(input())\n",
        "\n",
        "graph = [[0] * n for _ in range(n)]\n",
        "dx = [0, 1, 0, -1]\n",
        "dy = [1, 0, -1, 0]\n",
        "\n",
        "for i in range(k):\n",
        "    a, b = map(int, input().split())\n",
        "    graph[a - 1][b - 1] = 2\n",
        "\n",
        "l = int(input())\n",
        "dirDict = dict()\n",
        "queue = deque()\n",
        "queue.append((0, 0))\n",
        "\n",
        "for i in range(l):\n",
        "    x, c = input().split()\n",
        "    dirDict[int(x)] = c\n",
        "\n",
        "x, y = 0, 0\n",
        "graph[x][y] = 1\n",
        "cnt = 0\n",
        "direction = 0\n",
        "\n",
        "def turn(alpha):\n",
        "    global direction\n",
        "    if alpha == 'L':\n",
        "        direction = (direction - 1) % 4\n",
        "    else:\n",
        "        direction = (direction + 1) % 4\n",
        "\n",
        "\n",
        "while True:\n",
        "    cnt += 1\n",
        "    x += dx[direction]\n",
        "    y += dy[direction]\n",
        "\n",
        "    if x < 0 or x >= n or y < 0 or y >= n:\n",
        "        break\n",
        "\n",
        "    if graph[x][y] == 2:\n",
        "        graph[x][y] = 1\n",
        "        queue.append((x, y))\n",
        "        if cnt in dirDict:\n",
        "            turn(dirDict[cnt])\n",
        "\n",
        "    elif graph[x][y] == 0:\n",
        "        graph[x][y] = 1\n",
        "        queue.append((x, y))\n",
        "        tx, ty = queue.popleft()\n",
        "        graph[tx][ty] = 0\n",
        "        if cnt in dirDict:\n",
        "            turn(dirDict[cnt])\n",
        "\n",
        "    else:\n",
        "        break\n",
        "\n",
        "print(cnt)"
      ]
    }
  ]
}